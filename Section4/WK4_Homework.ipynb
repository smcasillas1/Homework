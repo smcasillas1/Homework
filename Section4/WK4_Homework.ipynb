{
 "cells": [
  {
   "attachments": {},
   "cell_type": "markdown",
   "metadata": {},
   "source": [
    "1. What does one need to do to use a module? \n",
    "<p>--Import the module before being able to access it's capabilities.\n",
    "2. Name a Module (not the DateTime Module) we looked at and write a line or 2 of code as an example using this module. Numpy is a module that we've covered in class. \n",
    "<p>-- See 1st Python Code box below for the examples lines of code.\n",
    "3. What is a benefit of using Exception handling? \n",
    "<p>-- One is able to work through errors as they occur while the programmer is testing out code.\n",
    "4. What are the 4 components used for Python Exception Handling? \n",
    "<p>-- Try, Except, Else, and Finally.\n",
    "5. NumPy arrays are like what Python data type? \n",
    "<p>-- NumPy arrays are similar to Lists.\n",
    "6. What is one of the main benefits of using NumPy arrays. \n",
    "<p>-- Two of the main benefits of using NumPy arrays are that it saves memory usage and is easier to use in mathemtical calculations.\n",
    "7. What is one of the main requirements about the 'dtype' of NumPy arrays? \n",
    "<p>-- Each of the elements within the NumPy Arrays should be the same data type.\n",
    "8. Of the 10 uses of NumPy, name 2. \n",
    "<p>-- Statistical Operations and Mathematical Operations.\n",
    "9. Name one of the other libraries we'll use with NumPy? \n",
    "<p>-- Numpy with the Pandas package.\n",
    "10.What is the shape of NumPy arrays? \n",
    "<p>-- The shape of the arrays are based on the number of dimensions the dataset has.\n",
    "11. What is a Tensor? \n",
    "<p>-- Tensors are 3D data arrays. \n",
    "12. Name a reason why it's better using  NumPy for Data Analysis than using a Python List? \n",
    "<p>-- Pre-configured package, in NumPy, simplifies the code/syntax necessary to complete data analysis.\n",
    "13. When creating an \"empty\" array, where do the elements come from? \n",
    "<p>-- Array is randomized since it comes from the computer's memory level and therefore generates a random array."
   ]
  },
  {
   "cell_type": "code",
   "execution_count": null,
   "metadata": {},
   "outputs": [],
   "source": [
    "#Numpy Code line example instruction from Markdown Section above\n",
    "import numpy as np\n",
    "data_set = np.array([1,2,3,4,5,6])\n",
    "print(data_set)"
   ]
  },
  {
   "cell_type": "code",
   "execution_count": 15,
   "metadata": {},
   "outputs": [
    {
     "name": "stdout",
     "output_type": "stream",
     "text": [
      "Renting a car is more affordable\n"
     ]
    }
   ],
   "source": [
    "\"\"\"# 1. if 'age' is greater than or equal to 25, print \n",
    "\"Renting a car is more affordable\", however if 'age' is less than 25, print \"Renting a car is very expensive.\"\n",
    " \"\"\"\n",
    "age = 55\n",
    "\n",
    "if age >= 25:\n",
    "    print(\"Renting a car is more affordable\")\n",
    "else :\n",
    "    print(\"Renting a car is very expensive.\")\n",
    "    "
   ]
  },
  {
   "cell_type": "code",
   "execution_count": 19,
   "metadata": {},
   "outputs": [
    {
     "name": "stdout",
     "output_type": "stream",
     "text": [
      "Renting a car is more affordable\n"
     ]
    }
   ],
   "source": [
    "\"\"\" #2 if 'age' is greater than or equal to 25, print \"Renting a car is more affordable.\" If 'age' \n",
    "is less than 25 but greater than or equal to 18, print \"Renting a car is very expensive.\" \n",
    "Finally, if age is less than 18, print \"You cannot legally rent a car. \"\"\"\n",
    "\n",
    "age = 55\n",
    "\n",
    "if age >= 25:\n",
    "    print(\"Renting a car is more affordable\")\n",
    "elif age >= 18 and age < 25:\n",
    "    print(\"Renting a car is very expensive.\")\n",
    "elif age < 18:\n",
    "    print(\"You cannot legally rent a car.\")\n"
   ]
  },
  {
   "cell_type": "code",
   "execution_count": 10,
   "metadata": {},
   "outputs": [
    {
     "name": "stdout",
     "output_type": "stream",
     "text": [
      "43\n",
      "e\n",
      "u\n",
      "i\n",
      "o\n",
      "o\n",
      "u\n",
      "o\n",
      "e\n",
      "e\n",
      "a\n",
      "o\n",
      "No. of vowels in statement is:  11\n"
     ]
    }
   ],
   "source": [
    "#3 Loop over string to calculate length and extract/count the vowels\n",
    "\n",
    "stmt_variable = \"The quick brown fox jumps over the lazy dog\"\n",
    "\n",
    "print(len(stmt_variable))\n",
    "\n",
    "vowel_ct = 0\n",
    "vowels_list = [\"a\", \"e\", \"i\", \"o\", \"u\"]\n",
    "\n",
    "for each_vowel in stmt_variable:\n",
    "    if each_vowel in vowels_list:\n",
    "        print(each_vowel)\n",
    "\n",
    "for each_vowel in range(len(stmt_variable)):\n",
    "      if stmt_variable[each_vowel] in vowels_list:\n",
    "          vowel_ct += 1\n",
    "\n",
    "\n",
    "print(\"No. of vowels in statement is: \", vowel_ct)"
   ]
  },
  {
   "cell_type": "code",
   "execution_count": 34,
   "metadata": {},
   "outputs": [
    {
     "name": "stdout",
     "output_type": "stream",
     "text": [
      "burnt sienna trousers\n",
      "burnt sienna blouse\n",
      "burnt sienna bandana\n",
      "burnt sienna cumber band\n",
      "burnt sienna blazer\n",
      "burnt sienna vest\n",
      "burnt sienna french beret\n",
      "burnt sienna scarf\n",
      "burnt sienna stole\n",
      "Dark Sapphire trousers\n",
      "Dark Sapphire blouse\n",
      "Dark Sapphire bandana\n",
      "Dark Sapphire cumber band\n",
      "Dark Sapphire blazer\n",
      "Dark Sapphire vest\n",
      "Dark Sapphire french beret\n",
      "Dark Sapphire scarf\n",
      "Dark Sapphire stole\n",
      "fuchsia trousers\n",
      "fuchsia blouse\n",
      "fuchsia bandana\n",
      "fuchsia cumber band\n",
      "fuchsia blazer\n",
      "fuchsia vest\n",
      "fuchsia french beret\n",
      "fuchsia scarf\n",
      "fuchsia stole\n",
      "auburn trousers\n",
      "auburn blouse\n",
      "auburn bandana\n",
      "auburn cumber band\n",
      "auburn blazer\n",
      "auburn vest\n",
      "auburn french beret\n",
      "auburn scarf\n",
      "auburn stole\n",
      "cerise trousers\n",
      "cerise blouse\n",
      "cerise bandana\n",
      "cerise cumber band\n",
      "cerise blazer\n",
      "cerise vest\n",
      "cerise french beret\n",
      "cerise scarf\n",
      "cerise stole\n",
      "aqua trousers\n",
      "aqua blouse\n",
      "aqua bandana\n",
      "aqua cumber band\n",
      "aqua blazer\n",
      "aqua vest\n",
      "aqua french beret\n",
      "aqua scarf\n",
      "aqua stole\n",
      "gunmetal blue trousers\n",
      "gunmetal blue blouse\n",
      "gunmetal blue bandana\n",
      "gunmetal blue cumber band\n",
      "gunmetal blue blazer\n",
      "gunmetal blue vest\n",
      "gunmetal blue french beret\n",
      "gunmetal blue scarf\n",
      "gunmetal blue stole\n",
      "maple trousers\n",
      "maple blouse\n",
      "maple bandana\n",
      "maple cumber band\n",
      "maple blazer\n",
      "maple vest\n",
      "maple french beret\n",
      "maple scarf\n",
      "maple stole\n"
     ]
    }
   ],
   "source": [
    "#4. Nested Loop to have every piece of Clothing (Couture) to match up with each Color (Panettone)\n",
    "\n",
    "couture = [\"trousers\", \"blouse\", \"bandana\", \"cumber band\", \"blazer\", \"vest\", \"french beret\", \"scarf\", \"stole\"]\n",
    "panettone = {\"cerise\", \"fuchsia\", \"aqua\", \"maple\", \"auburn\", \"burnt sienna\", \"gunmetal blue\", \"Dark Sapphire\"}\n",
    "\n",
    "for color in panettone:\n",
    "    for clothing in couture:\n",
    "        print(color, clothing)"
   ]
  },
  {
   "cell_type": "code",
   "execution_count": 20,
   "metadata": {},
   "outputs": [
    {
     "name": "stdout",
     "output_type": "stream",
     "text": [
      "5050\n"
     ]
    }
   ],
   "source": [
    "#5. Use range as a loop to calculate the sum of all the numbers from 1 to 100\n",
    "\n",
    "range_total  = 0\n",
    "\n",
    "for range_values in range(101):\n",
    "    range_total += range_values\n",
    "\n",
    "print(range_total)"
   ]
  },
  {
   "cell_type": "code",
   "execution_count": 27,
   "metadata": {},
   "outputs": [
    {
     "name": "stdout",
     "output_type": "stream",
     "text": [
      "banana\n",
      "['kiwi', 'banana', 'cherry']\n",
      "['kiwi', 'banana', 'cherry', 'orange']\n",
      "['kiwi', 'lemon', 'banana', 'cherry', 'orange']\n",
      "['kiwi', 'lemon', 'cherry', 'orange']\n",
      "['kiwi', 'melon']\n",
      "['cherry', 'orange', 'kiwi']\n",
      "7\n",
      "['orange', 'melon', 'mango', 'kiwi', 'cherry', 'banana', 'apple']\n"
     ]
    }
   ],
   "source": [
    "#6. Print the second item in this fruits list. [\"apple\", \"banana\", \"cherry\"]\n",
    "\n",
    "fruits = list(([\"apple\", \"banana\", \"cherry\"]))\n",
    "print(fruits[1])\n",
    "\n",
    "#7. Change the value from \"apple\" to \"kiwi\", in the fruits list. [\"apple\", \"banana\", \"cherry\"]\n",
    "fruits[0]='kiwi'\n",
    "print(fruits)\n",
    "\n",
    "#8 Use the append method to add \"orange\" to the fruits list. [\"apple\", \"banana\", \"cherry\"]\n",
    "\n",
    "fruits.append('orange')\n",
    "print(fruits)\n",
    "\n",
    "#9 Use the insert method to add \"lemon\" as the second item in the fruits list. [\"apple\", \"banana\", \"cherry\"]\n",
    "\n",
    "fruits.insert(1,'lemon')\n",
    "print(fruits)\n",
    "\n",
    "#10 Use the remove method to remove \"banana\" from the fruits list. [\"apple\", \"banana\", \"cherry\"]\n",
    "\n",
    "fruits.remove('banana')\n",
    "print(fruits)\n",
    "\n",
    "#11 Use negative indexing to print the 3rd and 2nd to last items in the list. [\"apple\", \"banana\", \"cherry\", \"orange\", \"kiwi\", \"melon\", \"mango\"]\n",
    "\n",
    "fruits1 = list([\"apple\", \"banana\", \"cherry\", \"orange\", \"kiwi\", \"melon\", \"mango\"])\n",
    "print(fruits1[-3:-1])\n",
    "\n",
    "#12 Use a range of indexes to print the third, fourth, and fifth item in the list. [\"apple\", \"banana\", \"cherry\", \"orange\", \"kiwi\", \"melon\", \"mango\"]\n",
    "\n",
    "print(fruits1[2:5])\n",
    "\n",
    "#13 Use the correct syntax to print the number of items in the list. [\"apple\", \"banana\", \"cherry\", \"orange\", \"kiwi\", \"melon\", \"mango\"]\n",
    "\n",
    "print(len(fruits1))\n",
    "\n",
    "#14 Use the correct syntax to sort this list in reverse order [\"apple\", \"banana\", \"cherry\", \"orange\", \"kiwi\", \"melon\", \"mango\"]\n",
    "\n",
    "fruits1.sort(reverse=True)\n",
    "print(fruits1)\n"
   ]
  }
 ],
 "metadata": {
  "kernelspec": {
   "display_name": "Python 3",
   "language": "python",
   "name": "python3"
  },
  "language_info": {
   "codemirror_mode": {
    "name": "ipython",
    "version": 3
   },
   "file_extension": ".py",
   "mimetype": "text/x-python",
   "name": "python",
   "nbconvert_exporter": "python",
   "pygments_lexer": "ipython3",
   "version": "3.11.2"
  },
  "orig_nbformat": 4
 },
 "nbformat": 4,
 "nbformat_minor": 2
}

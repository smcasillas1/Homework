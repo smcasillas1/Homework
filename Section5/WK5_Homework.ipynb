{
 "cells": [
  {
   "attachments": {},
   "cell_type": "markdown",
   "metadata": {},
   "source": [
    "**1. What does Pandas stand for?**\n",
    "<p>-Name derived from “panel data” (or Python Data Analysis) a term for multidimensional structured datasets.\n",
    "\n",
    "**2. What are the 2 collections used in Pandas?**\n",
    "<p>-The two collections used in Pandas are Series and Dataframes.\n",
    "\n",
    "**3. Name 4 things Pandas can do for us.**\n",
    "<p>-Clean data\n",
    "<p>-Normalize data\n",
    "<p>-Data visualizations\n",
    "<p>-Inspect data\n",
    "\n",
    "**4. To permanently sort a DataFrame, which keyword should one use with the df.sort() method?**\n",
    "<p>-Include the \"inplace=True\" statement to permanently sort a df. \n",
    "\n",
    "**5. What is a CSV**\n",
    "<p>-Comma separated value formatted file type.\n",
    "\n",
    "**6. When cleaning data what values do we not like in our data?**\n",
    "<p>-Blanks are values that are not desired in one's data therefore the user will have to decide what to do with blanks whether it will be to replace or remove."
   ]
  },
  {
   "cell_type": "code",
   "execution_count": 10,
   "metadata": {},
   "outputs": [
    {
     "name": "stdout",
     "output_type": "stream",
     "text": [
      "[[[ 0  1]\n",
      "  [ 2  3]\n",
      "  [ 4  5]]\n",
      "\n",
      " [[ 6  7]\n",
      "  [ 8  9]\n",
      "  [10 11]]]\n"
     ]
    }
   ],
   "source": [
    "#7.Import NumPy, use one of the NumPy methods and create an array with a shape of (2, 3, 2). \n",
    "#You can use the reshape method -- .reshape()\n",
    "\n",
    "import numpy as np\n",
    "\n",
    "df = np.arange(12).reshape(2,3,2)\n",
    "print(df)"
   ]
  },
  {
   "cell_type": "code",
   "execution_count": 17,
   "metadata": {},
   "outputs": [
    {
     "name": "stdout",
     "output_type": "stream",
     "text": [
      "[ 0.  4.  8. 12. 16. 20.]\n"
     ]
    },
    {
     "data": {
      "text/plain": [
       "array([ 0.,  4.,  8., 12., 16., 20.])"
      ]
     },
     "execution_count": 17,
     "metadata": {},
     "output_type": "execute_result"
    }
   ],
   "source": [
    "\"\"\" 8. Use NumPy .linspace() to create an array with 6 linearly spaced \n",
    "values between 0 and 20\n",
    " \"\"\"\n",
    "import numpy as np\n",
    "import copy\n",
    "\n",
    "df = np.linspace(0,20,num=6)\n",
    "print(df)\n",
    "\n",
    "\n",
    "#9. Make a deepcopy of the above array.\n",
    "df_deepcopy = copy.deepcopy(df)\n",
    "df_deepcopy"
   ]
  },
  {
   "cell_type": "code",
   "execution_count": null,
   "metadata": {},
   "outputs": [],
   "source": [
    "#10 has been removed per TA 5/18/2023."
   ]
  },
  {
   "cell_type": "code",
   "execution_count": null,
   "metadata": {},
   "outputs": [],
   "source": [
    "#11 Concatenate these 3 arrays into a new array named 'newArray'\n",
    "\n",
    "import numpy as np\n",
    "\n",
    "arr1 = np.array([[25, 16]])\n",
    "arr2 = np.array([[11, 2], [13, 4]])\n",
    "arr3 = np.array([[7, 81], [5, 6], [11, 12]])\n",
    "\n",
    "newArray = np.concatenate((arr1,arr2,arr3))\n",
    "print(newArray)\n",
    "\n",
    "#12. Sort 'newArray' in order into 'sortedArray'\n",
    "\n",
    "sortedArray = np.sort(newArray)\n",
    "print(\"\\nSorted Array\\n\",sortedArray)\n",
    "\n",
    "#13. Reshape the 'sortedArray' array, into a new array called 'reshapedArray', so it has 2 dimensions with a size of 2, 3.\n",
    "\n",
    "reshapedArray = np.reshape(sortedArray,newshape=(2,2,3))\n",
    "print(\"\\nReshaped Array\\n\",reshapedArray)\n",
    "\n",
    "#14. Unpack the array tuples from the above 'reshapedArray' into 4 well named variables. Print the 4 variables.\n",
    "\n",
    "reshapedArray = np.concatenate(reshapedArray).tolist() #converting ArrayType into a list to allow for unpacking.\n",
    "\n",
    "group_1, group_2, group_3, group_4 = reshapedArray\n",
    "\n",
    "print(\"\\nUnpacked Array Items\\n\")\n",
    "print(group_1)\n",
    "print(group_2)\n",
    "print(group_3)\n",
    "print(group_4)\n"
   ]
  },
  {
   "cell_type": "code",
   "execution_count": null,
   "metadata": {},
   "outputs": [],
   "source": [
    "#15. Combine and sort the following arrays into one called 'comboArray'\n",
    "\n",
    "import numpy as np\n",
    "\n",
    "one = ([10, 11, 12, 13, 14, 15, 16, 17])\n",
    "two = ([20, 21, 22, 23, 24, 25, 26, 27])\n",
    "three = ([ 0, 1, 2, 3, 4, 5, 6, 7])\n",
    "\n",
    "comboArray = np.concatenate((one,two, three), axis=0)\n",
    "comboArray.sort(axis=0)\n",
    "print(comboArray)\n",
    "\n",
    "\n",
    "#16 Complete the following print tasks for the comboArray dataset\n",
    "\n",
    "#print the 2nd element\n",
    "print(comboArray[1])\n",
    "\n",
    "#print all elements from the 3rd element to the last\n",
    "print(comboArray[2:])\n",
    "\n",
    "#print all elements from the 4th to the 14th elements\n",
    "print(comboArray[3:14])\n",
    "\n",
    "#print the last 6 elements\n",
    "print(comboArray[-6:])\n",
    "\n",
    "#print all element from #0 up to and including #15, using the negative number method, i.e. taking a section from the end.\n",
    "print(comboArray[:-10])\n",
    "\n",
    "#print from #20 every even element to the end\n",
    "print(comboArray[16::2])\n",
    "\n",
    "#print from the last element moving forward, every 5th element.\n",
    "count = 1\n",
    "\n",
    "for index_pos in comboArray:\n",
    "    if count % 5 == 0:\n",
    "        count += 1\n",
    "        print(index_pos)\n",
    "    else:\n",
    "        count +=1\n",
    "\n",
    "#17, 18, 19 have been removed per TA 5/18/2023."
   ]
  },
  {
   "cell_type": "code",
   "execution_count": null,
   "metadata": {},
   "outputs": [],
   "source": [
    "#20 Using Series, create a DataFrame that looks like this:\n",
    "\n",
    "import pandas as pd\n",
    "\n",
    "data = {\n",
    "    \"Ingredients\": [\"flour\", \"milk\", \"eggs\", \"spam\"],\n",
    "    \"Height\": [4,1,2,1],\n",
    "    \"Unit\": [\"cups\", \"cup\", \"large\", \"can\"]\n",
    "}\n",
    "\n",
    "df = pd.DataFrame(data)\n",
    "print(df)"
   ]
  },
  {
   "cell_type": "code",
   "execution_count": null,
   "metadata": {},
   "outputs": [],
   "source": [
    "#21 create a DataFrame named studentData\n",
    "\n",
    "import pandas as pd\n",
    "\n",
    "student_data = {\n",
    "    'Name': ['Jai', 'janusha', 'Gaurav', 'Anuj'],\n",
    "    'Height': [5.1, 6.2, 5.1, 5.2],\n",
    "    'Qualification': ['Msc', 'MA', 'Msc', 'Msc'],\n",
    "    'Address': ['Delhi', 'Doha', 'Chennai', 'Dakhar'],\n",
    "    'Age': [21, 23, 24, 21],\n",
    "    'Pets': ['Dog', 'Bunny', 'Chinchilla', 'Parrot'],\n",
    "    'Sport': ['Darts', 'Basketball', 'PaddleBoarding', 'Cricket']\n",
    "    }\n",
    "\n",
    "df = pd.DataFrame(student_data, columns=[\"Name\", \"Height\", \"Qualification\", \"Address\", \"Age\", \"Pets\", \"Sport\"])\n",
    "\n",
    "print(student_data)\n",
    "#22 Add a new column to the student_data df with the following deserts\n",
    "\n",
    "deserts = [\"ice cream\", \"cashew fudge\", \"waffels\", \"carrot halwa\"]\n",
    "\n",
    "df[\"Desert\"] = deserts\n",
    "print(type(df))\n",
    "\n",
    "#23 Sort the student_data df in ASC order for columns 'name' and 'address'\n",
    "\n",
    "df.sort_values(by=['Name', 'Address'],inplace=True,ascending=True)\n",
    "print(df)\n"
   ]
  },
  {
   "cell_type": "code",
   "execution_count": 166,
   "metadata": {},
   "outputs": [],
   "source": [
    "#24 Saving df to a .csv file : Name file cows_and_goats.csv\n",
    "\n",
    "import numpy as np\n",
    "import pandas as pd\n",
    "\n",
    "df = pd.DataFrame({\n",
    "    'cows': [12,20],\n",
    "    'goats': [22,19]}, index=['Year 1', 'Year 2'])\n",
    "\n",
    "df.to_csv('cows_and_goats.csv')\n"
   ]
  },
  {
   "cell_type": "code",
   "execution_count": 168,
   "metadata": {},
   "outputs": [],
   "source": [
    "#25a Create a csv file using pandas on vegetables and save it\n",
    "\n",
    "import numpy as np\n",
    "import pandas as pd\n",
    "\n",
    "df_veggie_data = pd.DataFrame({\n",
    "    'veggie_name': ['cucumber', 'carrot', 'turnip', 'onion', 'squash'],\n",
    "    'on_hand_qty': [65,120,88,12,5]\n",
    "})\n",
    "\n",
    "df_veggie_data.to_csv('veggie_inventory.csv')\n"
   ]
  },
  {
   "cell_type": "code",
   "execution_count": 170,
   "metadata": {},
   "outputs": [],
   "source": [
    "#25b update your veggie_inventory csv file using pandas and save as another name\n",
    "\n",
    "import numpy as np\n",
    "import pandas as pd\n",
    "\n",
    "df_veggie_data_v2 = pd.DataFrame({\n",
    "    'veggie_name': ['cucumber', 'carrot', 'turnip', 'onion', 'squash', 'mint', 'green onion', 'green pepper'],\n",
    "    'on_hand_qty': [65,100,88,65,445,52,45,10]\n",
    "})\n",
    "\n",
    "df_veggie_data_v2.to_csv('veggie_inventory_v2.csv')"
   ]
  }
 ],
 "metadata": {
  "kernelspec": {
   "display_name": "Python 3",
   "language": "python",
   "name": "python3"
  },
  "language_info": {
   "codemirror_mode": {
    "name": "ipython",
    "version": 3
   },
   "file_extension": ".py",
   "mimetype": "text/x-python",
   "name": "python",
   "nbconvert_exporter": "python",
   "pygments_lexer": "ipython3",
   "version": "3.11.2"
  },
  "orig_nbformat": 4
 },
 "nbformat": 4,
 "nbformat_minor": 2
}
